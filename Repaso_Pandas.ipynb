{
 "cells": [
  {
   "cell_type": "code",
   "execution_count": 1,
   "id": "eb6ad501",
   "metadata": {},
   "outputs": [],
   "source": [
    "import pandas as pd\n",
    "\n",
    "# Cargar datasets\n",
    "df = pd.read_csv(\"animal_center_vet.csv\")\n",
    "df_prop = pd.read_csv(\"animal_center_prop.csv\")\n"
   ]
  },
  {
   "cell_type": "code",
   "execution_count": 2,
   "id": "f607624e",
   "metadata": {},
   "outputs": [
    {
     "data": {
      "text/plain": [
       "100    Chihuahua Shorthair Mix\n",
       "Name: breed, dtype: object"
      ]
     },
     "execution_count": 2,
     "metadata": {},
     "output_type": "execute_result"
    }
   ],
   "source": [
    "# 1. ¿De qué raza (“breed”) es el animal con identificador “A668644”?\n",
    "df.loc[df[\"animal_id\"] == \"A668644\", \"breed\"]"
   ]
  },
  {
   "cell_type": "code",
   "execution_count": 3,
   "id": "08fdb432",
   "metadata": {},
   "outputs": [
    {
     "data": {
      "text/html": [
       "<div>\n",
       "<style scoped>\n",
       "    .dataframe tbody tr th:only-of-type {\n",
       "        vertical-align: middle;\n",
       "    }\n",
       "\n",
       "    .dataframe tbody tr th {\n",
       "        vertical-align: top;\n",
       "    }\n",
       "\n",
       "    .dataframe thead th {\n",
       "        text-align: right;\n",
       "    }\n",
       "</style>\n",
       "<table border=\"1\" class=\"dataframe\">\n",
       "  <thead>\n",
       "    <tr style=\"text-align: right;\">\n",
       "      <th></th>\n",
       "      <th>animal_id</th>\n",
       "      <th>age_upon_outcome</th>\n",
       "      <th>animal_type</th>\n",
       "      <th>breed</th>\n",
       "      <th>age_category</th>\n",
       "    </tr>\n",
       "  </thead>\n",
       "  <tbody>\n",
       "    <tr>\n",
       "      <th>47</th>\n",
       "      <td>A660098</td>\n",
       "      <td>730</td>\n",
       "      <td>Dog</td>\n",
       "      <td>Pit Bull Mix</td>\n",
       "      <td>adult</td>\n",
       "    </tr>\n",
       "    <tr>\n",
       "      <th>53</th>\n",
       "      <td>A545127</td>\n",
       "      <td>2190</td>\n",
       "      <td>Dog</td>\n",
       "      <td>Pit Bull Mix</td>\n",
       "      <td>adult</td>\n",
       "    </tr>\n",
       "    <tr>\n",
       "      <th>55</th>\n",
       "      <td>A673648</td>\n",
       "      <td>1095</td>\n",
       "      <td>Dog</td>\n",
       "      <td>Pit Bull Mix</td>\n",
       "      <td>adult</td>\n",
       "    </tr>\n",
       "    <tr>\n",
       "      <th>113</th>\n",
       "      <td>A552202</td>\n",
       "      <td>3285</td>\n",
       "      <td>Dog</td>\n",
       "      <td>Pit Bull Mix</td>\n",
       "      <td>adult</td>\n",
       "    </tr>\n",
       "    <tr>\n",
       "      <th>150</th>\n",
       "      <td>A666941</td>\n",
       "      <td>730</td>\n",
       "      <td>Dog</td>\n",
       "      <td>Pit Bull Mix</td>\n",
       "      <td>adult</td>\n",
       "    </tr>\n",
       "    <tr>\n",
       "      <th>165</th>\n",
       "      <td>A687004</td>\n",
       "      <td>1095</td>\n",
       "      <td>Dog</td>\n",
       "      <td>Pit Bull Mix</td>\n",
       "      <td>adult</td>\n",
       "    </tr>\n",
       "    <tr>\n",
       "      <th>174</th>\n",
       "      <td>A580685</td>\n",
       "      <td>1460</td>\n",
       "      <td>Dog</td>\n",
       "      <td>Pit Bull Mix</td>\n",
       "      <td>adult</td>\n",
       "    </tr>\n",
       "    <tr>\n",
       "      <th>181</th>\n",
       "      <td>A689369</td>\n",
       "      <td>1460</td>\n",
       "      <td>Dog</td>\n",
       "      <td>Pit Bull Mix</td>\n",
       "      <td>adult</td>\n",
       "    </tr>\n",
       "    <tr>\n",
       "      <th>184</th>\n",
       "      <td>A625324</td>\n",
       "      <td>1095</td>\n",
       "      <td>Dog</td>\n",
       "      <td>Pit Bull Mix</td>\n",
       "      <td>adult</td>\n",
       "    </tr>\n",
       "    <tr>\n",
       "      <th>191</th>\n",
       "      <td>A672082</td>\n",
       "      <td>730</td>\n",
       "      <td>Dog</td>\n",
       "      <td>Pit Bull Mix</td>\n",
       "      <td>adult</td>\n",
       "    </tr>\n",
       "  </tbody>\n",
       "</table>\n",
       "</div>"
      ],
      "text/plain": [
       "    animal_id  age_upon_outcome animal_type         breed age_category\n",
       "47    A660098               730         Dog  Pit Bull Mix        adult\n",
       "53    A545127              2190         Dog  Pit Bull Mix        adult\n",
       "55    A673648              1095         Dog  Pit Bull Mix        adult\n",
       "113   A552202              3285         Dog  Pit Bull Mix        adult\n",
       "150   A666941               730         Dog  Pit Bull Mix        adult\n",
       "165   A687004              1095         Dog  Pit Bull Mix        adult\n",
       "174   A580685              1460         Dog  Pit Bull Mix        adult\n",
       "181   A689369              1460         Dog  Pit Bull Mix        adult\n",
       "184   A625324              1095         Dog  Pit Bull Mix        adult\n",
       "191   A672082               730         Dog  Pit Bull Mix        adult"
      ]
     },
     "execution_count": 3,
     "metadata": {},
     "output_type": "execute_result"
    }
   ],
   "source": [
    "# 2. Listado de perros de raza “Pit Bull Mix” y edad mayor de un año (365 días)\n",
    "df[(df[\"breed\"] == \"Pit Bull Mix\") & (df[\"age_upon_outcome\"] > 365)]"
   ]
  },
  {
   "cell_type": "code",
   "execution_count": 4,
   "id": "a5a38ad4",
   "metadata": {},
   "outputs": [
    {
     "data": {
      "text/plain": [
       "animal_type\n",
       "Cat      14\n",
       "Dog       2\n",
       "Other    28\n",
       "Name: age_upon_outcome, dtype: int64"
      ]
     },
     "execution_count": 4,
     "metadata": {},
     "output_type": "execute_result"
    }
   ],
   "source": [
    "# 3. Cachorro más pequeño (mínima edad) de cada especie (“animal_type”)\n",
    "df.groupby(\"animal_type\")[\"age_upon_outcome\"].min()"
   ]
  },
  {
   "cell_type": "code",
   "execution_count": 9,
   "id": "e18649b8",
   "metadata": {},
   "outputs": [
    {
     "name": "stdout",
     "output_type": "stream",
     "text": [
      "age_category        adult      junior\n",
      "animal_type                          \n",
      "Cat           1786.578947  120.379310\n",
      "Dog           1645.943396  191.596491\n",
      "Other          973.333333  258.700000\n"
     ]
    }
   ],
   "source": [
    "# 4. Media de edad por especie y categoría de edad (“age_category”) usando pivot_table\n",
    "tabla_dinamica = pd.pivot_table(df,\n",
    "               values=\"age_upon_outcome\",\n",
    "               index=\"animal_type\",\n",
    "               columns=\"age_category\",\n",
    "               aggfunc=\"mean\")\n",
    "print(tabla_dinamica)"
   ]
  },
  {
   "cell_type": "code",
   "execution_count": null,
   "id": "ec912f37",
   "metadata": {},
   "outputs": [
    {
     "data": {
      "text/html": [
       "<div>\n",
       "<style scoped>\n",
       "    .dataframe tbody tr th:only-of-type {\n",
       "        vertical-align: middle;\n",
       "    }\n",
       "\n",
       "    .dataframe tbody tr th {\n",
       "        vertical-align: top;\n",
       "    }\n",
       "\n",
       "    .dataframe thead th {\n",
       "        text-align: right;\n",
       "    }\n",
       "</style>\n",
       "<table border=\"1\" class=\"dataframe\">\n",
       "  <thead>\n",
       "    <tr style=\"text-align: right;\">\n",
       "      <th>animal_type</th>\n",
       "      <th>Cat</th>\n",
       "      <th>Dog</th>\n",
       "      <th>Other</th>\n",
       "    </tr>\n",
       "    <tr>\n",
       "      <th>age_category</th>\n",
       "      <th></th>\n",
       "      <th></th>\n",
       "      <th></th>\n",
       "    </tr>\n",
       "  </thead>\n",
       "  <tbody>\n",
       "    <tr>\n",
       "      <th>adult</th>\n",
       "      <td>1786.578947</td>\n",
       "      <td>1645.943396</td>\n",
       "      <td>973.333333</td>\n",
       "    </tr>\n",
       "    <tr>\n",
       "      <th>junior</th>\n",
       "      <td>120.379310</td>\n",
       "      <td>191.596491</td>\n",
       "      <td>258.700000</td>\n",
       "    </tr>\n",
       "  </tbody>\n",
       "</table>\n",
       "</div>"
      ],
      "text/plain": [
       "animal_type           Cat          Dog       Other\n",
       "age_category                                      \n",
       "adult         1786.578947  1645.943396  973.333333\n",
       "junior         120.379310   191.596491  258.700000"
      ]
     },
     "execution_count": 6,
     "metadata": {},
     "output_type": "execute_result"
    }
   ],
   "source": [
    "# 4. Pivot table intercambiando filas y columnas\n",
    "pd.pivot_table(df,\n",
    "               values=\"age_upon_outcome\",\n",
    "               index=\"age_category\",      # antes estaba en columnas\n",
    "               columns=\"animal_type\",     # antes estaba en filas\n",
    "               aggfunc=\"mean\")\n"
   ]
  },
  {
   "cell_type": "code",
   "execution_count": 10,
   "id": "42f18954",
   "metadata": {},
   "outputs": [
    {
     "data": {
      "text/html": [
       "<div>\n",
       "<style scoped>\n",
       "    .dataframe tbody tr th:only-of-type {\n",
       "        vertical-align: middle;\n",
       "    }\n",
       "\n",
       "    .dataframe tbody tr th {\n",
       "        vertical-align: top;\n",
       "    }\n",
       "\n",
       "    .dataframe thead th {\n",
       "        text-align: right;\n",
       "    }\n",
       "</style>\n",
       "<table border=\"1\" class=\"dataframe\">\n",
       "  <thead>\n",
       "    <tr style=\"text-align: right;\">\n",
       "      <th>animal_type</th>\n",
       "      <th>Cat</th>\n",
       "      <th>Dog</th>\n",
       "      <th>Other</th>\n",
       "    </tr>\n",
       "    <tr>\n",
       "      <th>age_category</th>\n",
       "      <th></th>\n",
       "      <th></th>\n",
       "      <th></th>\n",
       "    </tr>\n",
       "  </thead>\n",
       "  <tbody>\n",
       "    <tr>\n",
       "      <th>adult</th>\n",
       "      <td>1786.578947</td>\n",
       "      <td>1645.943396</td>\n",
       "      <td>973.333333</td>\n",
       "    </tr>\n",
       "    <tr>\n",
       "      <th>junior</th>\n",
       "      <td>120.379310</td>\n",
       "      <td>191.596491</td>\n",
       "      <td>258.700000</td>\n",
       "    </tr>\n",
       "  </tbody>\n",
       "</table>\n",
       "</div>"
      ],
      "text/plain": [
       "animal_type           Cat          Dog       Other\n",
       "age_category                                      \n",
       "adult         1786.578947  1645.943396  973.333333\n",
       "junior         120.379310   191.596491  258.700000"
      ]
     },
     "execution_count": 10,
     "metadata": {},
     "output_type": "execute_result"
    }
   ],
   "source": [
    "tabla_dinamica.T"
   ]
  },
  {
   "cell_type": "code",
   "execution_count": 11,
   "id": "5b8b8f7f",
   "metadata": {},
   "outputs": [
    {
     "data": {
      "text/plain": [
       "sex_upon_outcome\n",
       "Intact Female     588.965517\n",
       "Intact Male        97.611111\n",
       "Neutered Male    1015.463768\n",
       "Spayed Female     751.859375\n",
       "Unknown           378.350000\n",
       "Name: age_upon_outcome, dtype: float64"
      ]
     },
     "execution_count": 11,
     "metadata": {},
     "output_type": "execute_result"
    }
   ],
   "source": [
    "# 5. Media de edad por sexo (“sex_upon_outcome”) mezclando con segundo fichero\n",
    "# Join con animal_id\n",
    "merged = df.merge(df_prop, on=\"animal_id\", how=\"inner\")\n",
    "\n",
    "# Agrupación por sexo\n",
    "merged.groupby(\"sex_upon_outcome\")[\"age_upon_outcome\"].mean()"
   ]
  },
  {
   "cell_type": "code",
   "execution_count": 14,
   "id": "0c99786f",
   "metadata": {},
   "outputs": [],
   "source": [
    "# 6. Top 10 de animales más pequeños (en días) de color negro\n",
    "merged[merged[\"color\"] == \"Black\"].sort_values(\"age_upon_outcome\").head(10).to_csv(\"report.csv\", index=False, sep=\",\")"
   ]
  }
 ],
 "metadata": {
  "kernelspec": {
   "display_name": "Python 3",
   "language": "python",
   "name": "python3"
  },
  "language_info": {
   "codemirror_mode": {
    "name": "ipython",
    "version": 3
   },
   "file_extension": ".py",
   "mimetype": "text/x-python",
   "name": "python",
   "nbconvert_exporter": "python",
   "pygments_lexer": "ipython3",
   "version": "3.13.5"
  }
 },
 "nbformat": 4,
 "nbformat_minor": 5
}
