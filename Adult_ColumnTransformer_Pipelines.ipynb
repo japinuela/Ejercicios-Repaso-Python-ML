{
 "cells": [
  {
   "cell_type": "markdown",
   "id": "2f9d5277",
   "metadata": {},
   "source": [
    "\n",
    "# Clasificación (Adult Income) con **ColumnTransformer** + Pipelines  \n",
    "### (Logistic Regression & Random Forest)\n",
    "\n",
    "Version *tipo Titanic*: mezcla de variables **numéricas y categóricas**, con preprocesado usando `ColumnTransformer`:\n",
    "\n",
    "- Carga del dataset **Adult (Census Income)** desde `sklearn.datasets.fetch_openml`\n",
    "- Limpieza ligera y preparación del objetivo\n",
    "- **Split** train/test estratificado\n",
    "- **Preprocesado**: imputación (num/cat), **OneHotEncoder** (cat) y **StandardScaler** (num)\n",
    "- **Pipelines** con `LogisticRegression` y `RandomForestClassifier`\n",
    "- Validación cruzada + tabla comparativa (accuracy, precision, recall, f1, roc_auc)\n",
    "- Evaluación en test: métricas, matriz de confusión, curvas **ROC** y **Precision-Recall**\n",
    "- **GridSearchCV** para ambos modelos\n",
    "- Interpretabilidad: coeficientes (LR) e importancias (RF)\n"
   ]
  },
  {
   "cell_type": "code",
   "execution_count": 3,
   "id": "b51acf20",
   "metadata": {},
   "outputs": [],
   "source": [
    "\n",
    "# === Setup ===\n",
    "import numpy as np\n",
    "import pandas as pd\n",
    "import matplotlib.pyplot as plt\n",
    "\n",
    "from sklearn.datasets import fetch_openml\n",
    "from sklearn.model_selection import train_test_split, StratifiedKFold, cross_validate, GridSearchCV\n",
    "from sklearn.pipeline import Pipeline\n",
    "from sklearn.compose import ColumnTransformer, make_column_selector as selector\n",
    "from sklearn.preprocessing import OneHotEncoder, StandardScaler\n",
    "from sklearn.impute import SimpleImputer\n",
    "from sklearn.linear_model import LogisticRegression\n",
    "from sklearn.ensemble import RandomForestClassifier\n",
    "from sklearn.metrics import (\n",
    "    accuracy_score, precision_score, recall_score, f1_score, roc_auc_score,\n",
    "    confusion_matrix, RocCurveDisplay, PrecisionRecallDisplay, ConfusionMatrixDisplay, classification_report\n",
    ")\n",
    "\n",
    "RANDOM_STATE = 42\n",
    "np.random.seed(RANDOM_STATE)\n",
    "plt.rcParams['figure.figsize'] = (7, 5)\n"
   ]
  },
  {
   "cell_type": "markdown",
   "id": "31146c38",
   "metadata": {},
   "source": [
    "## 1) Carga de datos"
   ]
  },
  {
   "cell_type": "code",
   "execution_count": 4,
   "id": "8acf881c",
   "metadata": {},
   "outputs": [
    {
     "data": {
      "text/html": [
       "<div>\n",
       "<style scoped>\n",
       "    .dataframe tbody tr th:only-of-type {\n",
       "        vertical-align: middle;\n",
       "    }\n",
       "\n",
       "    .dataframe tbody tr th {\n",
       "        vertical-align: top;\n",
       "    }\n",
       "\n",
       "    .dataframe thead th {\n",
       "        text-align: right;\n",
       "    }\n",
       "</style>\n",
       "<table border=\"1\" class=\"dataframe\">\n",
       "  <thead>\n",
       "    <tr style=\"text-align: right;\">\n",
       "      <th></th>\n",
       "      <th>age</th>\n",
       "      <th>workclass</th>\n",
       "      <th>fnlwgt</th>\n",
       "      <th>education</th>\n",
       "      <th>education-num</th>\n",
       "      <th>marital-status</th>\n",
       "      <th>occupation</th>\n",
       "      <th>relationship</th>\n",
       "      <th>race</th>\n",
       "      <th>sex</th>\n",
       "      <th>capital-gain</th>\n",
       "      <th>capital-loss</th>\n",
       "      <th>hours-per-week</th>\n",
       "      <th>native-country</th>\n",
       "      <th>target</th>\n",
       "    </tr>\n",
       "  </thead>\n",
       "  <tbody>\n",
       "    <tr>\n",
       "      <th>7762</th>\n",
       "      <td>56</td>\n",
       "      <td>Private</td>\n",
       "      <td>33115</td>\n",
       "      <td>HS-grad</td>\n",
       "      <td>9</td>\n",
       "      <td>Divorced</td>\n",
       "      <td>Other-service</td>\n",
       "      <td>Unmarried</td>\n",
       "      <td>White</td>\n",
       "      <td>Female</td>\n",
       "      <td>0</td>\n",
       "      <td>0</td>\n",
       "      <td>40</td>\n",
       "      <td>United-States</td>\n",
       "      <td>0</td>\n",
       "    </tr>\n",
       "    <tr>\n",
       "      <th>23881</th>\n",
       "      <td>25</td>\n",
       "      <td>Private</td>\n",
       "      <td>112847</td>\n",
       "      <td>HS-grad</td>\n",
       "      <td>9</td>\n",
       "      <td>Married-civ-spouse</td>\n",
       "      <td>Transport-moving</td>\n",
       "      <td>Own-child</td>\n",
       "      <td>Other</td>\n",
       "      <td>Male</td>\n",
       "      <td>0</td>\n",
       "      <td>0</td>\n",
       "      <td>40</td>\n",
       "      <td>United-States</td>\n",
       "      <td>0</td>\n",
       "    </tr>\n",
       "    <tr>\n",
       "      <th>30507</th>\n",
       "      <td>43</td>\n",
       "      <td>Private</td>\n",
       "      <td>170525</td>\n",
       "      <td>Bachelors</td>\n",
       "      <td>13</td>\n",
       "      <td>Divorced</td>\n",
       "      <td>Prof-specialty</td>\n",
       "      <td>Not-in-family</td>\n",
       "      <td>White</td>\n",
       "      <td>Female</td>\n",
       "      <td>14344</td>\n",
       "      <td>0</td>\n",
       "      <td>40</td>\n",
       "      <td>United-States</td>\n",
       "      <td>1</td>\n",
       "    </tr>\n",
       "    <tr>\n",
       "      <th>28911</th>\n",
       "      <td>32</td>\n",
       "      <td>Private</td>\n",
       "      <td>186788</td>\n",
       "      <td>HS-grad</td>\n",
       "      <td>9</td>\n",
       "      <td>Married-civ-spouse</td>\n",
       "      <td>Transport-moving</td>\n",
       "      <td>Husband</td>\n",
       "      <td>White</td>\n",
       "      <td>Male</td>\n",
       "      <td>0</td>\n",
       "      <td>0</td>\n",
       "      <td>40</td>\n",
       "      <td>United-States</td>\n",
       "      <td>0</td>\n",
       "    </tr>\n",
       "    <tr>\n",
       "      <th>19484</th>\n",
       "      <td>39</td>\n",
       "      <td>Private</td>\n",
       "      <td>277886</td>\n",
       "      <td>Bachelors</td>\n",
       "      <td>13</td>\n",
       "      <td>Married-civ-spouse</td>\n",
       "      <td>Sales</td>\n",
       "      <td>Wife</td>\n",
       "      <td>White</td>\n",
       "      <td>Female</td>\n",
       "      <td>0</td>\n",
       "      <td>0</td>\n",
       "      <td>30</td>\n",
       "      <td>United-States</td>\n",
       "      <td>0</td>\n",
       "    </tr>\n",
       "  </tbody>\n",
       "</table>\n",
       "</div>"
      ],
      "text/plain": [
       "       age workclass  fnlwgt  education  education-num      marital-status  \\\n",
       "7762    56   Private   33115    HS-grad              9            Divorced   \n",
       "23881   25   Private  112847    HS-grad              9  Married-civ-spouse   \n",
       "30507   43   Private  170525  Bachelors             13            Divorced   \n",
       "28911   32   Private  186788    HS-grad              9  Married-civ-spouse   \n",
       "19484   39   Private  277886  Bachelors             13  Married-civ-spouse   \n",
       "\n",
       "             occupation   relationship   race     sex  capital-gain  \\\n",
       "7762      Other-service      Unmarried  White  Female             0   \n",
       "23881  Transport-moving      Own-child  Other    Male             0   \n",
       "30507    Prof-specialty  Not-in-family  White  Female         14344   \n",
       "28911  Transport-moving        Husband  White    Male             0   \n",
       "19484             Sales           Wife  White  Female             0   \n",
       "\n",
       "       capital-loss  hours-per-week native-country  target  \n",
       "7762              0              40  United-States       0  \n",
       "23881             0              40  United-States       0  \n",
       "30507             0              40  United-States       1  \n",
       "28911             0              40  United-States       0  \n",
       "19484             0              30  United-States       0  "
      ]
     },
     "execution_count": 4,
     "metadata": {},
     "output_type": "execute_result"
    }
   ],
   "source": [
    "\n",
    "# Adult / Census Income: target: <=50K / >50K\n",
    "adult = fetch_openml('adult', version=2, as_frame=True)\n",
    "df = adult.frame.copy()\n",
    "\n",
    "# Arreglo del target a binario: 1 si >50K, 0 en caso contrario\n",
    "df['target'] = (df['class'] == '>50K').astype(int)\n",
    "df = df.drop(columns=['class'])\n",
    "\n",
    "# Reemplazar '?' por NaN para tratarlos como faltantes\n",
    "df = df.replace('?', np.nan)\n",
    "\n",
    "df.sample(5, random_state=RANDOM_STATE)\n"
   ]
  },
  {
   "cell_type": "markdown",
   "id": "4f2bf807",
   "metadata": {},
   "source": [
    "### Info rápida"
   ]
  },
  {
   "cell_type": "code",
   "execution_count": 5,
   "id": "728d611b",
   "metadata": {},
   "outputs": [
    {
     "data": {
      "text/html": [
       "<div>\n",
       "<style scoped>\n",
       "    .dataframe tbody tr th:only-of-type {\n",
       "        vertical-align: middle;\n",
       "    }\n",
       "\n",
       "    .dataframe tbody tr th {\n",
       "        vertical-align: top;\n",
       "    }\n",
       "\n",
       "    .dataframe thead th {\n",
       "        text-align: right;\n",
       "    }\n",
       "</style>\n",
       "<table border=\"1\" class=\"dataframe\">\n",
       "  <thead>\n",
       "    <tr style=\"text-align: right;\">\n",
       "      <th></th>\n",
       "      <th>n_rows</th>\n",
       "      <th>n_features</th>\n",
       "      <th>pos_ratio_%</th>\n",
       "    </tr>\n",
       "  </thead>\n",
       "  <tbody>\n",
       "    <tr>\n",
       "      <th>0</th>\n",
       "      <td>48842</td>\n",
       "      <td>14</td>\n",
       "      <td>23.928177</td>\n",
       "    </tr>\n",
       "  </tbody>\n",
       "</table>\n",
       "</div>"
      ],
      "text/plain": [
       "   n_rows  n_features  pos_ratio_%\n",
       "0   48842          14    23.928177"
      ]
     },
     "metadata": {},
     "output_type": "display_data"
    },
    {
     "data": {
      "text/html": [
       "<div>\n",
       "<style scoped>\n",
       "    .dataframe tbody tr th:only-of-type {\n",
       "        vertical-align: middle;\n",
       "    }\n",
       "\n",
       "    .dataframe tbody tr th {\n",
       "        vertical-align: top;\n",
       "    }\n",
       "\n",
       "    .dataframe thead th {\n",
       "        text-align: right;\n",
       "    }\n",
       "</style>\n",
       "<table border=\"1\" class=\"dataframe\">\n",
       "  <thead>\n",
       "    <tr style=\"text-align: right;\">\n",
       "      <th></th>\n",
       "      <th>count</th>\n",
       "    </tr>\n",
       "  </thead>\n",
       "  <tbody>\n",
       "    <tr>\n",
       "      <th>int64</th>\n",
       "      <td>6</td>\n",
       "    </tr>\n",
       "    <tr>\n",
       "      <th>category</th>\n",
       "      <td>1</td>\n",
       "    </tr>\n",
       "    <tr>\n",
       "      <th>category</th>\n",
       "      <td>1</td>\n",
       "    </tr>\n",
       "    <tr>\n",
       "      <th>category</th>\n",
       "      <td>1</td>\n",
       "    </tr>\n",
       "    <tr>\n",
       "      <th>category</th>\n",
       "      <td>1</td>\n",
       "    </tr>\n",
       "    <tr>\n",
       "      <th>category</th>\n",
       "      <td>1</td>\n",
       "    </tr>\n",
       "    <tr>\n",
       "      <th>category</th>\n",
       "      <td>1</td>\n",
       "    </tr>\n",
       "    <tr>\n",
       "      <th>category</th>\n",
       "      <td>1</td>\n",
       "    </tr>\n",
       "    <tr>\n",
       "      <th>category</th>\n",
       "      <td>1</td>\n",
       "    </tr>\n",
       "  </tbody>\n",
       "</table>\n",
       "</div>"
      ],
      "text/plain": [
       "          count\n",
       "int64         6\n",
       "category      1\n",
       "category      1\n",
       "category      1\n",
       "category      1\n",
       "category      1\n",
       "category      1\n",
       "category      1\n",
       "category      1"
      ]
     },
     "metadata": {},
     "output_type": "display_data"
    },
    {
     "data": {
      "text/plain": [
       "occupation        0.057512\n",
       "workclass         0.057307\n",
       "native-country    0.017546\n",
       "education         0.000000\n",
       "fnlwgt            0.000000\n",
       "age               0.000000\n",
       "marital-status    0.000000\n",
       "education-num     0.000000\n",
       "race              0.000000\n",
       "relationship      0.000000\n",
       "Name: missing_ratio, dtype: float64"
      ]
     },
     "metadata": {},
     "output_type": "display_data"
    }
   ],
   "source": [
    "\n",
    "X = df.drop(columns=['target'])\n",
    "y = df['target']\n",
    "\n",
    "display(pd.DataFrame({\n",
    "    'n_rows': [len(df)],\n",
    "    'n_features': [X.shape[1]],\n",
    "    'pos_ratio_%': [100 * y.mean()]\n",
    "}))\n",
    "\n",
    "display(X.dtypes.value_counts().rename('count').to_frame())\n",
    "display(X.isna().mean().sort_values(ascending=False).head(10).rename('missing_ratio'))\n"
   ]
  },
  {
   "cell_type": "markdown",
   "id": "d5134c4b",
   "metadata": {},
   "source": [
    "## 2) Train/Test split (estratificado)"
   ]
  },
  {
   "cell_type": "code",
   "execution_count": 6,
   "id": "183f1c63",
   "metadata": {},
   "outputs": [
    {
     "data": {
      "text/plain": [
       "((39073, 14),\n",
       " (9769, 14),\n",
       " np.float64(0.23927008420136667),\n",
       " np.float64(0.23932848807452145))"
      ]
     },
     "execution_count": 6,
     "metadata": {},
     "output_type": "execute_result"
    }
   ],
   "source": [
    "\n",
    "X_train, X_test, y_train, y_test = train_test_split(\n",
    "    X, y, test_size=0.2, stratify=y, random_state=RANDOM_STATE\n",
    ")\n",
    "X_train.shape, X_test.shape, y_train.mean(), y_test.mean()\n"
   ]
  },
  {
   "cell_type": "markdown",
   "id": "0ca6f3dd",
   "metadata": {},
   "source": [
    "## 3) Preprocesado con **ColumnTransformer**"
   ]
  },
  {
   "cell_type": "code",
   "execution_count": 7,
   "id": "01df395a",
   "metadata": {},
   "outputs": [
    {
     "data": {
      "text/plain": [
       "(['age', 'fnlwgt', 'education-num', 'capital-gain', 'capital-loss'], [], 6, 0)"
      ]
     },
     "execution_count": 7,
     "metadata": {},
     "output_type": "execute_result"
    }
   ],
   "source": [
    "\n",
    "# Selección automática de columnas numéricas y categóricas\n",
    "num_cols = selector(dtype_include=np.number)(X_train)\n",
    "cat_cols = selector(dtype_include=object)(X_train)\n",
    "\n",
    "num_tf = Pipeline([\n",
    "    ('imputer', SimpleImputer(strategy='median')),\n",
    "    ('scaler', StandardScaler())\n",
    "])\n",
    "\n",
    "cat_tf = Pipeline([\n",
    "    ('imputer', SimpleImputer(strategy='most_frequent')),\n",
    "    ('ohe', OneHotEncoder(handle_unknown='ignore', sparse_output=False))\n",
    "])\n",
    "\n",
    "preprocess = ColumnTransformer([\n",
    "    ('num', num_tf, num_cols),\n",
    "    ('cat', cat_tf, cat_cols)\n",
    "])\n",
    "\n",
    "num_cols[:5], cat_cols[:5], len(num_cols), len(cat_cols)\n"
   ]
  },
  {
   "cell_type": "markdown",
   "id": "76af760a",
   "metadata": {},
   "source": [
    "## 4) Pipelines base (LR & RF)"
   ]
  },
  {
   "cell_type": "code",
   "execution_count": 8,
   "id": "591cd4e9",
   "metadata": {},
   "outputs": [
    {
     "data": {
      "text/plain": [
       "(Pipeline(steps=[('preprocess',\n",
       "                  ColumnTransformer(transformers=[('num',\n",
       "                                                   Pipeline(steps=[('imputer',\n",
       "                                                                    SimpleImputer(strategy='median')),\n",
       "                                                                   ('scaler',\n",
       "                                                                    StandardScaler())]),\n",
       "                                                   ['age', 'fnlwgt',\n",
       "                                                    'education-num',\n",
       "                                                    'capital-gain',\n",
       "                                                    'capital-loss',\n",
       "                                                    'hours-per-week']),\n",
       "                                                  ('cat',\n",
       "                                                   Pipeline(steps=[('imputer',\n",
       "                                                                    SimpleImputer(strategy='most_frequent')),\n",
       "                                                                   ('ohe',\n",
       "                                                                    OneHotEncoder(handle_unknown='ignore',\n",
       "                                                                                  sparse_output=False))]),\n",
       "                                                   [])])),\n",
       "                 ('clf', LogisticRegression(max_iter=1000, random_state=42))]),\n",
       " Pipeline(steps=[('preprocess',\n",
       "                  ColumnTransformer(transformers=[('num',\n",
       "                                                   Pipeline(steps=[('imputer',\n",
       "                                                                    SimpleImputer(strategy='median')),\n",
       "                                                                   ('scaler',\n",
       "                                                                    StandardScaler())]),\n",
       "                                                   ['age', 'fnlwgt',\n",
       "                                                    'education-num',\n",
       "                                                    'capital-gain',\n",
       "                                                    'capital-loss',\n",
       "                                                    'hours-per-week']),\n",
       "                                                  ('cat',\n",
       "                                                   Pipeline(steps=[('imputer',\n",
       "                                                                    SimpleImputer(strategy='most_frequent')),\n",
       "                                                                   ('ohe',\n",
       "                                                                    OneHotEncoder(handle_unknown='ignore',\n",
       "                                                                                  sparse_output=False))]),\n",
       "                                                   [])])),\n",
       "                 ('clf', RandomForestClassifier(random_state=42))]))"
      ]
     },
     "execution_count": 8,
     "metadata": {},
     "output_type": "execute_result"
    }
   ],
   "source": [
    "\n",
    "pipe_lr = Pipeline([\n",
    "    ('preprocess', preprocess),\n",
    "    ('clf', LogisticRegression(max_iter=1000, random_state=RANDOM_STATE, n_jobs=None))\n",
    "])\n",
    "\n",
    "pipe_rf = Pipeline([\n",
    "    ('preprocess', preprocess),\n",
    "    ('clf', RandomForestClassifier(random_state=RANDOM_STATE))\n",
    "])\n",
    "\n",
    "pipe_lr, pipe_rf\n"
   ]
  },
  {
   "cell_type": "markdown",
   "id": "ae7e893f",
   "metadata": {},
   "source": [
    "## 5) Validación cruzada y comparativa de modelos"
   ]
  },
  {
   "cell_type": "code",
   "execution_count": 9,
   "id": "9e22d5b3",
   "metadata": {},
   "outputs": [
    {
     "data": {
      "text/html": [
       "<div>\n",
       "<style scoped>\n",
       "    .dataframe tbody tr th:only-of-type {\n",
       "        vertical-align: middle;\n",
       "    }\n",
       "\n",
       "    .dataframe tbody tr th {\n",
       "        vertical-align: top;\n",
       "    }\n",
       "\n",
       "    .dataframe thead th {\n",
       "        text-align: right;\n",
       "    }\n",
       "</style>\n",
       "<table border=\"1\" class=\"dataframe\">\n",
       "  <thead>\n",
       "    <tr style=\"text-align: right;\">\n",
       "      <th></th>\n",
       "      <th>model</th>\n",
       "      <th>accuracy_mean</th>\n",
       "      <th>precision_mean</th>\n",
       "      <th>recall_mean</th>\n",
       "      <th>f1_mean</th>\n",
       "      <th>roc_auc_mean</th>\n",
       "      <th>accuracy_std</th>\n",
       "      <th>precision_std</th>\n",
       "      <th>recall_std</th>\n",
       "      <th>f1_std</th>\n",
       "      <th>roc_auc_std</th>\n",
       "    </tr>\n",
       "  </thead>\n",
       "  <tbody>\n",
       "    <tr>\n",
       "      <th>0</th>\n",
       "      <td>LogisticRegression</td>\n",
       "      <td>0.813247</td>\n",
       "      <td>0.702161</td>\n",
       "      <td>0.381859</td>\n",
       "      <td>0.494567</td>\n",
       "      <td>0.828643</td>\n",
       "      <td>0.005228</td>\n",
       "      <td>0.024033</td>\n",
       "      <td>0.010627</td>\n",
       "      <td>0.012788</td>\n",
       "      <td>0.006537</td>\n",
       "    </tr>\n",
       "    <tr>\n",
       "      <th>1</th>\n",
       "      <td>RandomForest</td>\n",
       "      <td>0.80713</td>\n",
       "      <td>0.618511</td>\n",
       "      <td>0.506256</td>\n",
       "      <td>0.556716</td>\n",
       "      <td>0.82439</td>\n",
       "      <td>0.004028</td>\n",
       "      <td>0.010773</td>\n",
       "      <td>0.01219</td>\n",
       "      <td>0.010184</td>\n",
       "      <td>0.005979</td>\n",
       "    </tr>\n",
       "  </tbody>\n",
       "</table>\n",
       "</div>"
      ],
      "text/plain": [
       "                model accuracy_mean precision_mean recall_mean   f1_mean  \\\n",
       "0  LogisticRegression      0.813247       0.702161    0.381859  0.494567   \n",
       "1        RandomForest       0.80713       0.618511    0.506256  0.556716   \n",
       "\n",
       "  roc_auc_mean accuracy_std precision_std recall_std    f1_std roc_auc_std  \n",
       "0     0.828643     0.005228      0.024033   0.010627  0.012788    0.006537  \n",
       "1      0.82439     0.004028      0.010773    0.01219  0.010184    0.005979  "
      ]
     },
     "execution_count": 9,
     "metadata": {},
     "output_type": "execute_result"
    }
   ],
   "source": [
    "\n",
    "cv = StratifiedKFold(n_splits=5, shuffle=True, random_state=RANDOM_STATE)\n",
    "scoring = {\n",
    "    \"accuracy\": \"accuracy\",\n",
    "    \"precision\": \"precision\",\n",
    "    \"recall\": \"recall\",\n",
    "    \"f1\": \"f1\",\n",
    "    \"roc_auc\": \"roc_auc\"\n",
    "}\n",
    "\n",
    "cv_lr = cross_validate(pipe_lr, X_train, y_train, cv=cv, scoring=scoring, n_jobs=-1)\n",
    "cv_rf = cross_validate(pipe_rf, X_train, y_train, cv=cv, scoring=scoring, n_jobs=-1)\n",
    "\n",
    "def summarize_cv(cvres, label):\n",
    "    return pd.Series({\n",
    "        \"model\": label,\n",
    "        **{f\"{m}_mean\": np.mean(cvres[f'test_{m}']) for m in scoring.keys()},\n",
    "        **{f\"{m}_std\": np.std(cvres[f'test_{m}']) for m in scoring.keys()},\n",
    "    })\n",
    "\n",
    "summary = pd.concat([summarize_cv(cv_lr, \"LogisticRegression\"), summarize_cv(cv_rf, \"RandomForest\")], axis=1).T\n",
    "summary.sort_values(\"roc_auc_mean\", ascending=False).reset_index(drop=True)\n"
   ]
  },
  {
   "cell_type": "markdown",
   "id": "3f38ed15",
   "metadata": {},
   "source": [
    "## 6) Entrenamiento y evaluación en test"
   ]
  },
  {
   "cell_type": "code",
   "execution_count": 17,
   "id": "1d04c2c4",
   "metadata": {},
   "outputs": [
    {
     "data": {
      "text/html": [
       "<div>\n",
       "<style scoped>\n",
       "    .dataframe tbody tr th:only-of-type {\n",
       "        vertical-align: middle;\n",
       "    }\n",
       "\n",
       "    .dataframe tbody tr th {\n",
       "        vertical-align: top;\n",
       "    }\n",
       "\n",
       "    .dataframe thead th {\n",
       "        text-align: right;\n",
       "    }\n",
       "</style>\n",
       "<table border=\"1\" class=\"dataframe\">\n",
       "  <thead>\n",
       "    <tr style=\"text-align: right;\">\n",
       "      <th></th>\n",
       "      <th>model</th>\n",
       "      <th>accuracy</th>\n",
       "      <th>precision</th>\n",
       "      <th>recall</th>\n",
       "      <th>f1</th>\n",
       "      <th>roc_auc</th>\n",
       "    </tr>\n",
       "  </thead>\n",
       "  <tbody>\n",
       "    <tr>\n",
       "      <th>0</th>\n",
       "      <td>LogisticRegression</td>\n",
       "      <td>0.819941</td>\n",
       "      <td>0.734413</td>\n",
       "      <td>0.387938</td>\n",
       "      <td>0.507697</td>\n",
       "      <td>0.832526</td>\n",
       "    </tr>\n",
       "    <tr>\n",
       "      <th>1</th>\n",
       "      <td>RandomForest</td>\n",
       "      <td>0.813389</td>\n",
       "      <td>0.63675</td>\n",
       "      <td>0.512831</td>\n",
       "      <td>0.568112</td>\n",
       "      <td>0.824613</td>\n",
       "    </tr>\n",
       "  </tbody>\n",
       "</table>\n",
       "</div>"
      ],
      "text/plain": [
       "                model  accuracy precision    recall        f1   roc_auc\n",
       "0  LogisticRegression  0.819941  0.734413  0.387938  0.507697  0.832526\n",
       "1        RandomForest  0.813389   0.63675  0.512831  0.568112  0.824613"
      ]
     },
     "execution_count": 17,
     "metadata": {},
     "output_type": "execute_result"
    }
   ],
   "source": [
    "\n",
    "pipe_lr.fit(X_train, y_train)\n",
    "pipe_rf.fit(X_train, y_train)\n",
    "\n",
    "y_pred_lr = pipe_lr.predict(X_test)\n",
    "y_proba_lr = pipe_lr.predict_proba(X_test)[:, 1]\n",
    "\n",
    "y_pred_rf = pipe_rf.predict(X_test)\n",
    "y_proba_rf = pipe_rf.predict_proba(X_test)[:, 1]\n",
    "\n",
    "def metrics_row(y_true, y_pred, y_proba, label):\n",
    "    return pd.Series({\n",
    "        \"model\": label,\n",
    "        \"accuracy\": accuracy_score(y_true, y_pred),\n",
    "        \"precision\": precision_score(y_true, y_pred),\n",
    "        \"recall\": recall_score(y_true, y_pred),\n",
    "        \"f1\": f1_score(y_true, y_pred),\n",
    "        \"roc_auc\": roc_auc_score(y_true, y_proba),\n",
    "    })\n",
    "\n",
    "test_metrics = pd.concat([\n",
    "    metrics_row(y_test, y_pred_lr, y_proba_lr, \"LogisticRegression\"),\n",
    "    metrics_row(y_test, y_pred_rf, y_proba_rf, \"RandomForest\")\n",
    "], axis=1).T\n",
    "\n",
    "test_metrics\n"
   ]
  },
  {
   "cell_type": "markdown",
   "id": "371d9dfb",
   "metadata": {},
   "source": [
    "### Matrices de confusión"
   ]
  },
  {
   "cell_type": "code",
   "execution_count": 11,
   "id": "6a834f67",
   "metadata": {},
   "outputs": [
    {
     "data": {
      "image/png": "[encoded data removed]",
      "text/plain": [
       "<Figure size 1200x500 with 2 Axes>"
      ]
     },
     "metadata": {},
     "output_type": "display_data"
    }
   ],
   "source": [
    "\n",
    "fig, axes = plt.subplots(1, 2, figsize=(12, 5))\n",
    "ConfusionMatrixDisplay(confusion_matrix(y_test, y_pred_lr)).plot(ax=axes[0], colorbar=False)\n",
    "axes[0].set_title(\"LR - Matriz de confusión\")\n",
    "ConfusionMatrixDisplay(confusion_matrix(y_test, y_pred_rf)).plot(ax=axes[1], colorbar=False)\n",
    "axes[1].set_title(\"RF - Matriz de confusión\")\n",
    "plt.show()\n"
   ]
  },
  {
   "cell_type": "markdown",
   "id": "b50c4201",
   "metadata": {},
   "source": [
    "### Curvas ROC y Precision-Recall"
   ]
  },
  {
   "cell_type": "code",
   "execution_count": 12,
   "id": "48e50589",
   "metadata": {},
   "outputs": [
    {
     "data": {
      "image/png": "[encoded data removed]",
      "text/plain": [
       "<Figure size 700x500 with 1 Axes>"
      ]
     },
     "metadata": {},
     "output_type": "display_data"
    },
    {
     "data": {
      "image/png": "[encoded data removed]",
      "text/plain": [
       "<Figure size 700x500 with 1 Axes>"
      ]
     },
     "metadata": {},
     "output_type": "display_data"
    },
    {
     "data": {
      "image/png": "[encoded data removed]",
      "text/plain": [
       "<Figure size 700x500 with 1 Axes>"
      ]
     },
     "metadata": {},
     "output_type": "display_data"
    },
    {
     "data": {
      "image/png": "[encoded data removed]",
      "text/plain": [
       "<Figure size 700x500 with 1 Axes>"
      ]
     },
     "metadata": {},
     "output_type": "display_data"
    }
   ],
   "source": [
    "\n",
    "RocCurveDisplay.from_predictions(y_test, y_proba_lr)\n",
    "plt.title(\"ROC - Logistic Regression\")\n",
    "plt.show()\n",
    "\n",
    "RocCurveDisplay.from_predictions(y_test, y_proba_rf)\n",
    "plt.title(\"ROC - Random Forest\")\n",
    "plt.show()\n",
    "\n",
    "PrecisionRecallDisplay.from_predictions(y_test, y_proba_lr)\n",
    "plt.title(\"PR - Logistic Regression\")\n",
    "plt.show()\n",
    "\n",
    "PrecisionRecallDisplay.from_predictions(y_test, y_proba_rf)\n",
    "plt.title(\"PR - Random Forest\")\n",
    "plt.show()\n"
   ]
  },
  {
   "cell_type": "markdown",
   "id": "1038781e",
   "metadata": {},
   "source": [
    "## 7) Interpretabilidad"
   ]
  },
  {
   "cell_type": "code",
   "execution_count": 18,
   "id": "f3ee0ecf",
   "metadata": {},
   "outputs": [
    {
     "ename": "NotFittedError",
     "evalue": "This OneHotEncoder instance is not fitted yet. Call 'fit' with appropriate arguments before using this estimator.",
     "output_type": "error",
     "traceback": [
      "\u001b[31m---------------------------------------------------------------------------\u001b[39m",
      "\u001b[31mNotFittedError\u001b[39m                            Traceback (most recent call last)",
      "\u001b[36mCell\u001b[39m\u001b[36m \u001b[39m\u001b[32mIn[18]\u001b[39m\u001b[32m, line 3\u001b[39m\n\u001b[32m      1\u001b[39m \u001b[38;5;66;03m# Recuperar nombres de columnas tras el preprocesado para el pipeline LR\u001b[39;00m\n\u001b[32m      2\u001b[39m pre = pipe_lr.named_steps[\u001b[33m'\u001b[39m\u001b[33mpreprocess\u001b[39m\u001b[33m'\u001b[39m]\n\u001b[32m----> \u001b[39m\u001b[32m3\u001b[39m cat_features = \u001b[43mpre\u001b[49m\u001b[43m.\u001b[49m\u001b[43mnamed_transformers_\u001b[49m\u001b[43m[\u001b[49m\u001b[33;43m'\u001b[39;49m\u001b[33;43mcat\u001b[39;49m\u001b[33;43m'\u001b[39;49m\u001b[43m]\u001b[49m\u001b[43m.\u001b[49m\u001b[43mnamed_steps\u001b[49m\u001b[43m[\u001b[49m\u001b[33;43m'\u001b[39;49m\u001b[33;43mohe\u001b[39;49m\u001b[33;43m'\u001b[39;49m\u001b[43m]\u001b[49m\u001b[43m.\u001b[49m\u001b[43mget_feature_names_out\u001b[49m\u001b[43m(\u001b[49m\u001b[43mcat_cols\u001b[49m\u001b[43m)\u001b[49m\n\u001b[32m      4\u001b[39m num_features = np.array(num_cols)\n\u001b[32m      5\u001b[39m feature_names = np.concatenate([num_features, cat_features])\n",
      "\u001b[36mFile \u001b[39m\u001b[32mc:\\Python313\\Lib\\site-packages\\sklearn\\preprocessing\\_encoders.py:1226\u001b[39m, in \u001b[36mOneHotEncoder.get_feature_names_out\u001b[39m\u001b[34m(self, input_features)\u001b[39m\n\u001b[32m   1206\u001b[39m \u001b[38;5;28;01mdef\u001b[39;00m\u001b[38;5;250m \u001b[39m\u001b[34mget_feature_names_out\u001b[39m(\u001b[38;5;28mself\u001b[39m, input_features=\u001b[38;5;28;01mNone\u001b[39;00m):\n\u001b[32m   1207\u001b[39m \u001b[38;5;250m    \u001b[39m\u001b[33;03m\"\"\"Get output feature names for transformation.\u001b[39;00m\n\u001b[32m   1208\u001b[39m \n\u001b[32m   1209\u001b[39m \u001b[33;03m    Parameters\u001b[39;00m\n\u001b[32m   (...)\u001b[39m\u001b[32m   1224\u001b[39m \u001b[33;03m        Transformed feature names.\u001b[39;00m\n\u001b[32m   1225\u001b[39m \u001b[33;03m    \"\"\"\u001b[39;00m\n\u001b[32m-> \u001b[39m\u001b[32m1226\u001b[39m     \u001b[43mcheck_is_fitted\u001b[49m\u001b[43m(\u001b[49m\u001b[38;5;28;43mself\u001b[39;49m\u001b[43m)\u001b[49m\n\u001b[32m   1227\u001b[39m     input_features = _check_feature_names_in(\u001b[38;5;28mself\u001b[39m, input_features)\n\u001b[32m   1228\u001b[39m     cats = [\n\u001b[32m   1229\u001b[39m         \u001b[38;5;28mself\u001b[39m._compute_transformed_categories(i)\n\u001b[32m   1230\u001b[39m         \u001b[38;5;28;01mfor\u001b[39;00m i, _ \u001b[38;5;129;01min\u001b[39;00m \u001b[38;5;28menumerate\u001b[39m(\u001b[38;5;28mself\u001b[39m.categories_)\n\u001b[32m   1231\u001b[39m     ]\n",
      "\u001b[36mFile \u001b[39m\u001b[32mc:\\Python313\\Lib\\site-packages\\sklearn\\utils\\validation.py:1754\u001b[39m, in \u001b[36mcheck_is_fitted\u001b[39m\u001b[34m(estimator, attributes, msg, all_or_any)\u001b[39m\n\u001b[32m   1751\u001b[39m     \u001b[38;5;28;01mreturn\u001b[39;00m\n\u001b[32m   1753\u001b[39m \u001b[38;5;28;01mif\u001b[39;00m \u001b[38;5;129;01mnot\u001b[39;00m _is_fitted(estimator, attributes, all_or_any):\n\u001b[32m-> \u001b[39m\u001b[32m1754\u001b[39m     \u001b[38;5;28;01mraise\u001b[39;00m NotFittedError(msg % {\u001b[33m\"\u001b[39m\u001b[33mname\u001b[39m\u001b[33m\"\u001b[39m: \u001b[38;5;28mtype\u001b[39m(estimator).\u001b[34m__name__\u001b[39m})\n",
      "\u001b[31mNotFittedError\u001b[39m: This OneHotEncoder instance is not fitted yet. Call 'fit' with appropriate arguments before using this estimator."
     ]
    }
   ],
   "source": [
    "\n",
    "# Recuperar nombres de columnas tras el preprocesado para el pipeline LR\n",
    "pre = pipe_lr.named_steps['preprocess']\n",
    "cat_features = pre.named_transformers_['cat'].named_steps['ohe'].get_feature_names_out(cat_cols)\n",
    "num_features = np.array(num_cols)\n",
    "feature_names = np.concatenate([num_features, cat_features])\n",
    "\n",
    "lr = pipe_lr.named_steps['clf']\n",
    "coefs = pd.DataFrame({\n",
    "    'feature': feature_names,\n",
    "    'coef': lr.coef_.flatten()\n",
    "}).sort_values('coef', key=np.abs, ascending=False)\n",
    "\n",
    "coefs.head(15)\n"
   ]
  },
  {
   "cell_type": "code",
   "execution_count": null,
   "id": "4c0c9a82",
   "metadata": {},
   "outputs": [
    {
     "ename": "NameError",
     "evalue": "name 'feature_names' is not defined",
     "output_type": "error",
     "traceback": [
      "\u001b[31m---------------------------------------------------------------------------\u001b[39m",
      "\u001b[31mNameError\u001b[39m                                 Traceback (most recent call last)",
      "\u001b[36mCell\u001b[39m\u001b[36m \u001b[39m\u001b[32mIn[15]\u001b[39m\u001b[32m, line 4\u001b[39m\n\u001b[32m      1\u001b[39m \u001b[38;5;66;03m# Importancias del RF (ojo: se refieren al espacio transformado con OHE)\u001b[39;00m\n\u001b[32m      2\u001b[39m rf = pipe_rf.named_steps[\u001b[33m'\u001b[39m\u001b[33mclf\u001b[39m\u001b[33m'\u001b[39m]\n\u001b[32m      3\u001b[39m importances = pd.DataFrame({\n\u001b[32m----> \u001b[39m\u001b[32m4\u001b[39m     \u001b[33m'\u001b[39m\u001b[33mfeature\u001b[39m\u001b[33m'\u001b[39m: \u001b[43mfeature_names\u001b[49m,\n\u001b[32m      5\u001b[39m     \u001b[33m'\u001b[39m\u001b[33mimportance\u001b[39m\u001b[33m'\u001b[39m: rf.feature_importances_\n\u001b[32m      6\u001b[39m }).sort_values(\u001b[33m'\u001b[39m\u001b[33mimportance\u001b[39m\u001b[33m'\u001b[39m, ascending=\u001b[38;5;28;01mFalse\u001b[39;00m)\n\u001b[32m      8\u001b[39m importances.head(\u001b[32m15\u001b[39m)\n",
      "\u001b[31mNameError\u001b[39m: name 'feature_names' is not defined"
     ]
    }
   ],
   "source": [
    "\n",
    "# Importancias del RF (ojo: se refieren al espacio transformado con OHE)\n",
    "rf = pipe_rf.named_steps['clf']\n",
    "importances = pd.DataFrame({\n",
    "    'feature': feature_names,\n",
    "    'importance': rf.feature_importances_\n",
    "}).sort_values('importance', ascending=False)\n",
    "\n",
    "importances.head(15)\n"
   ]
  },
  {
   "cell_type": "markdown",
   "id": "dffdb176",
   "metadata": {},
   "source": [
    "## 8) Búsqueda de hiperparámetros (GridSearchCV)"
   ]
  },
  {
   "cell_type": "code",
   "execution_count": null,
   "id": "8f3d53ff",
   "metadata": {},
   "outputs": [],
   "source": [
    "\n",
    "param_grid_lr = {\n",
    "    \"clf__C\": [0.01, 0.1, 1.0, 10.0],\n",
    "    \"clf__penalty\": [\"l2\"],\n",
    "    \"clf__solver\": [\"lbfgs\", \"liblinear\"]\n",
    "}\n",
    "grid_lr = GridSearchCV(pipe_lr, param_grid_lr, cv=cv, scoring=\"roc_auc\", n_jobs=-1)\n",
    "grid_lr.fit(X_train, y_train)\n",
    "\n",
    "print(\"Mejor LR:\", grid_lr.best_params_, \"AUC:\", grid_lr.best_score_)\n"
   ]
  },
  {
   "cell_type": "code",
   "execution_count": null,
   "id": "0d0bf625",
   "metadata": {},
   "outputs": [],
   "source": [
    "\n",
    "param_grid_rf = {\n",
    "    \"clf__n_estimators\": [200, 400],\n",
    "    \"clf__max_depth\": [None, 6, 10, 14],\n",
    "    \"clf__min_samples_split\": [2, 5, 10],\n",
    "    \"clf__min_samples_leaf\": [1, 2, 4],\n",
    "    \"clf__max_features\": [\"sqrt\", \"log2\"]\n",
    "}\n",
    "grid_rf = GridSearchCV(pipe_rf, param_grid_rf, cv=cv, scoring=\"roc_auc\", n_jobs=-1)\n",
    "grid_rf.fit(X_train, y_train)\n",
    "\n",
    "print(\"Mejor RF:\", grid_rf.best_params_, \"AUC:\", grid_rf.best_score_)\n"
   ]
  },
  {
   "cell_type": "markdown",
   "id": "b1c0f62d",
   "metadata": {},
   "source": [
    "### Evaluación en test con los mejores modelos"
   ]
  },
  {
   "cell_type": "code",
   "execution_count": null,
   "id": "4bf3eb7f",
   "metadata": {},
   "outputs": [],
   "source": [
    "\n",
    "best_lr = grid_lr.best_estimator_\n",
    "best_rf = grid_rf.best_estimator_\n",
    "\n",
    "for label, model in [(\"Best LR\", best_lr), (\"Best RF\", best_rf)]:\n",
    "    y_pred = model.predict(X_test)\n",
    "    y_proba = model.predict_proba(X_test)[:, 1]\n",
    "    print(f\"\\n=== {label} ===\")\n",
    "    print(\"Accuracy:\", accuracy_score(y_test, y_pred))\n",
    "    print(\"Precision:\", precision_score(y_test, y_pred))\n",
    "    print(\"Recall:\", recall_score(y_test, y_pred))\n",
    "    print(\"F1:\", f1_score(y_test, y_pred))\n",
    "    print(\"ROC AUC:\", roc_auc_score(y_test, y_proba))\n"
   ]
  },
  {
   "cell_type": "markdown",
   "id": "062a3686",
   "metadata": {},
   "source": [
    "## 9) Exportar modelos entrenados (opcional)"
   ]
  },
  {
   "cell_type": "code",
   "execution_count": null,
   "id": "42a24aa5",
   "metadata": {},
   "outputs": [],
   "source": [
    "\n",
    "import joblib\n",
    "\n",
    "joblib.dump(best_lr, \"adult_best_lr.joblib\")\n",
    "joblib.dump(best_rf, \"adult_best_rf.joblib\")\n",
    "\n",
    "print(\"Guardados: adult_best_lr.joblib, adult_best_rf.joblib\")\n"
   ]
  },
  {
   "cell_type": "markdown",
   "id": "ea8e3fd8",
   "metadata": {},
   "source": [
    "\n",
    "---\n",
    "\n",
    "### Notas\n",
    "- Este notebook replica el patrón de **Titanic** (num + cat) cambiando solo el dataset.\n",
    "- Si prefieres otro dataset con mezcla num/cat (p. ej. *Heart Disease*), te preparo otra variante.\n",
    "- Ideas extra: *calibration curves*, **class weights** (la clase positiva es menos frecuente), *learning curves* y *permutation importance*.\n"
   ]
  }
 ],
 "metadata": {
  "kernelspec": {
   "display_name": "Python 3",
   "language": "python",
   "name": "python3"
  },
  "language_info": {
   "codemirror_mode": {
    "name": "ipython",
    "version": 3
   },
   "file_extension": ".py",
   "mimetype": "text/x-python",
   "name": "python",
   "nbconvert_exporter": "python",
   "pygments_lexer": "ipython3",
   "version": "3.13.5"
  }
 },
 "nbformat": 4,
 "nbformat_minor": 5
}
