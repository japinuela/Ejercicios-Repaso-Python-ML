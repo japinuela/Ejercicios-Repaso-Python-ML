{
 "cells": [
  {
   "cell_type": "code",
   "execution_count": 4,
   "id": "cf4c47d2",
   "metadata": {},
   "outputs": [
    {
     "data": {
      "text/html": [
       "<div>\n",
       "<style scoped>\n",
       "    .dataframe tbody tr th:only-of-type {\n",
       "        vertical-align: middle;\n",
       "    }\n",
       "\n",
       "    .dataframe tbody tr th {\n",
       "        vertical-align: top;\n",
       "    }\n",
       "\n",
       "    .dataframe thead th {\n",
       "        text-align: right;\n",
       "    }\n",
       "</style>\n",
       "<table border=\"1\" class=\"dataframe\">\n",
       "  <thead>\n",
       "    <tr style=\"text-align: right;\">\n",
       "      <th></th>\n",
       "      <th>animal_id</th>\n",
       "      <th>age_upon_outcome</th>\n",
       "      <th>animal_type</th>\n",
       "      <th>breed</th>\n",
       "      <th>age_category</th>\n",
       "    </tr>\n",
       "  </thead>\n",
       "  <tbody>\n",
       "    <tr>\n",
       "      <th>0</th>\n",
       "      <td>A684346</td>\n",
       "      <td>14</td>\n",
       "      <td>Cat</td>\n",
       "      <td>Domestic Shorthair Mix</td>\n",
       "      <td>junior</td>\n",
       "    </tr>\n",
       "    <tr>\n",
       "      <th>1</th>\n",
       "      <td>A666430</td>\n",
       "      <td>365</td>\n",
       "      <td>Dog</td>\n",
       "      <td>Beagle Mix</td>\n",
       "      <td>junior</td>\n",
       "    </tr>\n",
       "    <tr>\n",
       "      <th>2</th>\n",
       "      <td>A675708</td>\n",
       "      <td>365</td>\n",
       "      <td>Dog</td>\n",
       "      <td>Pit Bull</td>\n",
       "      <td>junior</td>\n",
       "    </tr>\n",
       "    <tr>\n",
       "      <th>3</th>\n",
       "      <td>A680386</td>\n",
       "      <td>3285</td>\n",
       "      <td>Dog</td>\n",
       "      <td>Miniature Schnauzer Mix</td>\n",
       "      <td>adult</td>\n",
       "    </tr>\n",
       "    <tr>\n",
       "      <th>4</th>\n",
       "      <td>A683115</td>\n",
       "      <td>155</td>\n",
       "      <td>Other</td>\n",
       "      <td>Bat Mix</td>\n",
       "      <td>junior</td>\n",
       "    </tr>\n",
       "  </tbody>\n",
       "</table>\n",
       "</div>"
      ],
      "text/plain": [
       "  animal_id  age_upon_outcome animal_type                    breed  \\\n",
       "0   A684346                14         Cat   Domestic Shorthair Mix   \n",
       "1   A666430               365         Dog               Beagle Mix   \n",
       "2   A675708               365         Dog                 Pit Bull   \n",
       "3   A680386              3285         Dog  Miniature Schnauzer Mix   \n",
       "4   A683115               155       Other                  Bat Mix   \n",
       "\n",
       "  age_category  \n",
       "0       junior  \n",
       "1       junior  \n",
       "2       junior  \n",
       "3        adult  \n",
       "4       junior  "
      ]
     },
     "execution_count": 4,
     "metadata": {},
     "output_type": "execute_result"
    }
   ],
   "source": [
    "import pandas as pd\n",
    "df = pd.read_csv(\"./datasets/animal_center_vet.csv\")\n",
    "df.head()"
   ]
  },
  {
   "cell_type": "code",
   "execution_count": 5,
   "id": "2c2209fc",
   "metadata": {},
   "outputs": [
    {
     "name": "stdout",
     "output_type": "stream",
     "text": [
      "<class 'pandas.core.frame.DataFrame'>\n",
      "RangeIndex: 200 entries, 0 to 199\n",
      "Data columns (total 5 columns):\n",
      " #   Column            Non-Null Count  Dtype \n",
      "---  ------            --------------  ----- \n",
      " 0   animal_id         200 non-null    object\n",
      " 1   age_upon_outcome  200 non-null    int64 \n",
      " 2   animal_type       200 non-null    object\n",
      " 3   breed             200 non-null    object\n",
      " 4   age_category      200 non-null    object\n",
      "dtypes: int64(1), object(4)\n",
      "memory usage: 7.9+ KB\n"
     ]
    },
    {
     "data": {
      "text/html": [
       "<div>\n",
       "<style scoped>\n",
       "    .dataframe tbody tr th:only-of-type {\n",
       "        vertical-align: middle;\n",
       "    }\n",
       "\n",
       "    .dataframe tbody tr th {\n",
       "        vertical-align: top;\n",
       "    }\n",
       "\n",
       "    .dataframe thead th {\n",
       "        text-align: right;\n",
       "    }\n",
       "</style>\n",
       "<table border=\"1\" class=\"dataframe\">\n",
       "  <thead>\n",
       "    <tr style=\"text-align: right;\">\n",
       "      <th></th>\n",
       "      <th>age_upon_outcome</th>\n",
       "    </tr>\n",
       "  </thead>\n",
       "  <tbody>\n",
       "    <tr>\n",
       "      <th>count</th>\n",
       "      <td>200.000000</td>\n",
       "    </tr>\n",
       "    <tr>\n",
       "      <th>mean</th>\n",
       "      <td>722.950000</td>\n",
       "    </tr>\n",
       "    <tr>\n",
       "      <th>std</th>\n",
       "      <td>1003.411907</td>\n",
       "    </tr>\n",
       "    <tr>\n",
       "      <th>min</th>\n",
       "      <td>2.000000</td>\n",
       "    </tr>\n",
       "    <tr>\n",
       "      <th>25%</th>\n",
       "      <td>62.000000</td>\n",
       "    </tr>\n",
       "    <tr>\n",
       "      <th>50%</th>\n",
       "      <td>365.000000</td>\n",
       "    </tr>\n",
       "    <tr>\n",
       "      <th>75%</th>\n",
       "      <td>1095.000000</td>\n",
       "    </tr>\n",
       "    <tr>\n",
       "      <th>max</th>\n",
       "      <td>5475.000000</td>\n",
       "    </tr>\n",
       "  </tbody>\n",
       "</table>\n",
       "</div>"
      ],
      "text/plain": [
       "       age_upon_outcome\n",
       "count        200.000000\n",
       "mean         722.950000\n",
       "std         1003.411907\n",
       "min            2.000000\n",
       "25%           62.000000\n",
       "50%          365.000000\n",
       "75%         1095.000000\n",
       "max         5475.000000"
      ]
     },
     "execution_count": 5,
     "metadata": {},
     "output_type": "execute_result"
    }
   ],
   "source": [
    "df.info()\n",
    "df.describe()"
   ]
  },
  {
   "cell_type": "code",
   "execution_count": 11,
   "id": "9da9bd5f",
   "metadata": {},
   "outputs": [
    {
     "name": "stdout",
     "output_type": "stream",
     "text": [
      "100    Chihuahua Shorthair Mix\n",
      "Name: breed, dtype: object\n"
     ]
    },
    {
     "data": {
      "text/plain": [
       "100    Chihuahua Shorthair Mix\n",
       "Name: breed, dtype: object"
      ]
     },
     "execution_count": 11,
     "metadata": {},
     "output_type": "execute_result"
    }
   ],
   "source": [
    "#1.\t¿De qué raza (“breed”) es el animal con identificador “A668644”?\n",
    "df_filtrado = df[df[\"animal_id\"] == \"A668644\"]\n",
    "print(df_filtrado[\"breed\"])\n",
    "\n",
    "df.loc[df[\"animal_id\"] == \"A668644\", \"breed\"]"
   ]
  },
  {
   "cell_type": "code",
   "execution_count": 14,
   "id": "ff4511b4",
   "metadata": {},
   "outputs": [
    {
     "name": "stdout",
     "output_type": "stream",
     "text": [
      "    animal_id  age_upon_outcome animal_type         breed age_category\n",
      "47    A660098               730         Dog  Pit Bull Mix        adult\n",
      "53    A545127              2190         Dog  Pit Bull Mix        adult\n",
      "55    A673648              1095         Dog  Pit Bull Mix        adult\n",
      "113   A552202              3285         Dog  Pit Bull Mix        adult\n",
      "150   A666941               730         Dog  Pit Bull Mix        adult\n",
      "165   A687004              1095         Dog  Pit Bull Mix        adult\n",
      "174   A580685              1460         Dog  Pit Bull Mix        adult\n",
      "181   A689369              1460         Dog  Pit Bull Mix        adult\n",
      "184   A625324              1095         Dog  Pit Bull Mix        adult\n",
      "191   A672082               730         Dog  Pit Bull Mix        adult\n"
     ]
    }
   ],
   "source": [
    "#2.\t¿Cuál es el listado de perros de raza “Pit Bull Mix” y una edad mayor de un año (365 días)?\n",
    "df_filtrado = df[(df[\"breed\"] == \"Pit Bull Mix\") & (df[\"age_upon_outcome\"] > 365)]\n",
    "print(df_filtrado)"
   ]
  },
  {
   "cell_type": "code",
   "execution_count": 16,
   "id": "4c827ffc",
   "metadata": {},
   "outputs": [
    {
     "name": "stdout",
     "output_type": "stream",
     "text": [
      "    animal_id  age_upon_outcome animal_type         breed age_category\n",
      "47    A660098               730         Dog  Pit Bull Mix        adult\n",
      "53    A545127              2190         Dog  Pit Bull Mix        adult\n",
      "55    A673648              1095         Dog  Pit Bull Mix        adult\n",
      "113   A552202              3285         Dog  Pit Bull Mix        adult\n",
      "150   A666941               730         Dog  Pit Bull Mix        adult\n",
      "165   A687004              1095         Dog  Pit Bull Mix        adult\n",
      "174   A580685              1460         Dog  Pit Bull Mix        adult\n",
      "181   A689369              1460         Dog  Pit Bull Mix        adult\n",
      "184   A625324              1095         Dog  Pit Bull Mix        adult\n",
      "191   A672082               730         Dog  Pit Bull Mix        adult\n"
     ]
    }
   ],
   "source": [
    "#Otra opcion es usar la funcion .query()\n",
    "df_filtrado = df.query(\"breed == 'Pit Bull Mix' and age_upon_outcome > 365\")\n",
    "print(df_filtrado)"
   ]
  },
  {
   "cell_type": "code",
   "execution_count": 18,
   "id": "54ad457f",
   "metadata": {},
   "outputs": [
    {
     "name": "stdout",
     "output_type": "stream",
     "text": [
      "animal_type\n",
      "Cat      14\n",
      "Dog       2\n",
      "Other    28\n",
      "Name: age_upon_outcome, dtype: int64\n"
     ]
    }
   ],
   "source": [
    "#3.\t¿Cuántos días (“age_upon_outcome”) tiene el cachorro más pequeño de cada especie (“animal_type”)?\n",
    "gdf = df.groupby(\"animal_type\")[\"age_upon_outcome\"].min()\n",
    "print(gdf)"
   ]
  },
  {
   "cell_type": "code",
   "execution_count": 19,
   "id": "fc5ce3e1",
   "metadata": {},
   "outputs": [
    {
     "name": "stdout",
     "output_type": "stream",
     "text": [
      "             age_upon_outcome\n",
      "animal_type                  \n",
      "Cat                        14\n",
      "Dog                         2\n",
      "Other                      28\n"
     ]
    }
   ],
   "source": [
    "gdf = pd.pivot_table(df,\n",
    "                     values=\"age_upon_outcome\",\n",
    "                     index=\"animal_type\",\n",
    "                     aggfunc=\"min\")\n",
    "print(gdf)"
   ]
  },
  {
   "cell_type": "code",
   "execution_count": null,
   "id": "cbf64ba4",
   "metadata": {},
   "outputs": [
    {
     "name": "stdout",
     "output_type": "stream",
     "text": [
      "animal_type           Cat          Dog       Other\n",
      "age_category                                      \n",
      "adult         1786.578947  1645.943396  973.333333\n",
      "junior         120.379310   191.596491  258.700000\n"
     ]
    }
   ],
   "source": [
    "#4.\tCuatnso dias de media (\"age_upon_outcome\") tienen los animales de cada especie (\"animal_type\") separando por tramos de categoría de edad (“age_category”) \n",
    "gdf = pd.pivot_table(df, values=\"age_upon_outcome\",\n",
    "               index=\"age_category\", columns=\"animal_type\",\n",
    "               aggfunc=\"mean\")\n",
    "print(gdf)"
   ]
  },
  {
   "cell_type": "code",
   "execution_count": 26,
   "id": "97a1a0db",
   "metadata": {},
   "outputs": [
    {
     "name": "stdout",
     "output_type": "stream",
     "text": [
      "animal_type           Cat          Dog       Other\n",
      "age_category                                      \n",
      "adult         1786.578947  1645.943396  973.333333\n",
      "junior         120.379310   191.596491  258.700000\n"
     ]
    }
   ],
   "source": [
    "gdf = pd.pivot_table(df, values=\"age_upon_outcome\",\n",
    "               index=\"animal_type\", columns=\"age_category\",\n",
    "               aggfunc=\"mean\")\n",
    "print(gdf.T)"
   ]
  },
  {
   "cell_type": "code",
   "execution_count": null,
   "id": "f67d1a83",
   "metadata": {},
   "outputs": [
    {
     "name": "stdout",
     "output_type": "stream",
     "text": [
      "age_category        adult      junior\n",
      "animal_type                          \n",
      "Cat           1786.578947  120.379310\n",
      "Dog           1645.943396  191.596491\n",
      "Other          973.333333  258.700000\n"
     ]
    }
   ],
   "source": [
    "#Veamos como funciona group by + Unstack\n",
    "gdf = (df.groupby([\"age_category\", \"animal_type\"])[\"age_upon_outcome\"]\n",
    "         .mean()\n",
    "         .unstack())\n",
    "print(gdf)\n",
    "\n",
    "'''\n",
    "Opciones\n",
    "groupby + unstack → más flexible, más bajo nivel.\n",
    "pivot_table → más directo, más parecido a Excel.\n",
    "'''"
   ]
  },
  {
   "cell_type": "code",
   "execution_count": 36,
   "id": "d8bf4e5e",
   "metadata": {},
   "outputs": [
    {
     "name": "stdout",
     "output_type": "stream",
     "text": [
      "sex_upon_outcome\n",
      "Neutered Male    1015.463768\n",
      "Spayed Female     751.859375\n",
      "Intact Female     588.965517\n",
      "Unknown           378.350000\n",
      "Intact Male        97.611111\n",
      "Name: age_upon_outcome, dtype: float64\n"
     ]
    }
   ],
   "source": [
    "#5.\tMezclando con el segundo fichero, “animal_center_prop.csv”, \n",
    "# ¿cuál es la media de edad (“age_upon_outcome”) de cada sexo (“sex_upon_outcome”)?\n",
    "df_prop = pd.read_csv(\"./datasets/animal_center_prop.csv\")\n",
    "df_merged = pd.merge(df, df_prop, on=\"animal_id\")\n",
    "#En la solucion inicial\n",
    "#merged = df.merge(df_prop, on=\"animal_in\", how=\"inner\")\n",
    "gdf = df_merged.groupby(\"sex_upon_outcome\")[\"age_upon_outcome\"].mean().sort_values(ascending=False)\n",
    "print(gdf)\n"
   ]
  },
  {
   "cell_type": "code",
   "execution_count": null,
   "id": "4f2e4008",
   "metadata": {},
   "outputs": [],
   "source": [
    "#6.\tEscribir en un fichero “report.csv” con el top 10 de animales más pequeños (en edad, “age_upon_outcome”) \n",
    "# de color negro (“Black”). Pista para la ordenación: sort_values.\n",
    "df_black = df_merged[df_merged[\"color\"] == \"Black\"]\n",
    "df_min = df_black.sort_values(\"age_upon_outcome\").head(10)\n",
    "df_min.to_csv(\"report.csv\", index=False, sep=\",\")\n",
    "\n",
    "#Por defecto en groupby las filas con NaN en la columna de agrupación se descartan\n",
    "#Si queremos una categoria aparte\n",
    "#df.groupby(\"col\", dropna=False)[\"valor\"].mean()\n",
    "\n",
    "#Esta misma preguta para los pivot_table\n",
    "'''\n",
    "pd.pivot_table(df,\n",
    "               values=\"age_upon_outcome\",\n",
    "               index=\"animal_type\",\n",
    "               columns=\"sex_upon_outcome\",\n",
    "               aggfunc=\"mean\",\n",
    "               fill_value=0)   # sustituye NaN por 0\n",
    "\n",
    "pd.pivot_table(df,\n",
    "               values=\"age_upon_outcome\",\n",
    "               index=\"animal_type\",\n",
    "               columns=\"sex_upon_outcome\",\n",
    "               aggfunc=\"mean\",\n",
    "               dropna=False)   # incluye NaN como categoría en index/columns\n",
    "'''"
   ]
  }
 ],
 "metadata": {
  "kernelspec": {
   "display_name": "Python 3",
   "language": "python",
   "name": "python3"
  },
  "language_info": {
   "codemirror_mode": {
    "name": "ipython",
    "version": 3
   },
   "file_extension": ".py",
   "mimetype": "text/x-python",
   "name": "python",
   "nbconvert_exporter": "python",
   "pygments_lexer": "ipython3",
   "version": "3.13.5"
  }
 },
 "nbformat": 4,
 "nbformat_minor": 5
}
